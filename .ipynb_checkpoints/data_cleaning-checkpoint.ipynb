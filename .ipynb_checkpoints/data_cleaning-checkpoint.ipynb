{
 "cells": [
  {
   "cell_type": "code",
   "execution_count": 3,
   "id": "673c1f11",
   "metadata": {},
   "outputs": [],
   "source": [
    "# Import Libraries\n",
    "import pandas as pd\n",
    "import numpy as np\n",
    "import os\n",
    "from matplotlib import pyplot as plt\n",
    "import seaborn as sns\n",
    "import statsmodels.formula.api as smf\n",
    "import statsmodels.api as sm\n",
    "from linearmodels import PooledOLS\n",
    "from linearmodels import RandomEffects"
   ]
  },
  {
   "cell_type": "markdown",
   "id": "711db825",
   "metadata": {},
   "source": [
    "### Read in Data"
   ]
  },
  {
   "cell_type": "code",
   "execution_count": 4,
   "id": "54814544",
   "metadata": {},
   "outputs": [],
   "source": [
    "os.chdir(\"./Data\")"
   ]
  },
  {
   "cell_type": "code",
   "execution_count": 5,
   "id": "fe790c06",
   "metadata": {},
   "outputs": [],
   "source": [
    "## Read state population estiamtes 2010-2018\"\n",
    "state_population = pd.read_excel(\"nst-est2019-01.xlsx\")\n",
    "\n",
    "## Read all state spending estimates 2010 - 2018 ##\n",
    "file_pattern1 = \"ACSDP1Y{}.csv\"\n",
    "file_names1 = [file_pattern1.format(i) for i in range(2010, 2019)]\n",
    "state_stats = [pd.read_csv(file) for file in file_names1]\n",
    "for i, stats in enumerate(state_stats):\n",
    "    globals()[f\"stats_{i+2010}\"] = stats\n",
    "    \n",
    "## Read state probation estimates 2010 - 2018 ##\n",
    "file_pattern2 = \"Probation{}.tsv\"\n",
    "file_names2 = [file_pattern2.format(i) for i in range(2010, 2019)]\n",
    "state_probation = [pd.read_csv(file, sep=\"\\t\") for file in file_names2]\n",
    "for i, probation in enumerate(state_probation):\n",
    "    globals()[f\"probation_{i+2010}\"] = probation\n",
    "\n",
    "## Read state parole estimates 2010 - 2018 ##\n",
    "file_pattern3 = \"Parole{}.tsv\"\n",
    "file_names3 = [file_pattern3.format(i) for i in range(2010, 2019)]\n",
    "state_parole = [pd.read_csv(file, sep=\"\\t\") for file in file_names3]\n",
    "for i, parole in enumerate(state_parole):\n",
    "    globals()[f\"parole_{i+2010}\"] = parole\n",
    "\n",
    "## Read state jail estimates ##\n",
    "file_pattern4 = \"Jail{}.tsv\"\n",
    "file_names4 = [file_pattern4.format(i) for i in range(2010, 2019)]\n",
    "state_jail = [pd.read_csv(file, sep=\"\\t\") for file in file_names4]\n",
    "for i, jail in enumerate(state_jail):\n",
    "    globals()[f\"jail_{i+2010}\"] = jail\n",
    "\n",
    "## Read state prisoners estimates ##\n",
    "state_prisoners = pd.read_excel(\"data.xlsx\")\n",
    "\n",
    "## Read state spending ##\n",
    "file_pattern5 = \"ASFIN{}.xlsx\"\n",
    "file_names5 = [file_pattern5.format(i) for i in range(2010, 2019)]\n",
    "state_spending = [pd.read_excel(file) for file in file_names5]\n",
    "for i, spending in enumerate(state_spending):\n",
    "    globals()[f\"spending_{i+2010}\"] = spending\n",
    "\n",
    "## Read state crime ##\n",
    "file_pattern6 = \"crime{}.xls\"\n",
    "file_names6 = [file_pattern6.format(i) for i in range(2010, 2019)]\n",
    "state_crime = [pd.read_excel(file) for file in file_names6]\n",
    "for i, crime in enumerate(state_crime):\n",
    "    globals()[f\"crime_{i+2010}\"] = crime"
   ]
  },
  {
   "cell_type": "markdown",
   "id": "471eda1f",
   "metadata": {},
   "source": [
    "### Create State Identifiers"
   ]
  },
  {
   "cell_type": "code",
   "execution_count": 6,
   "id": "1c8c566a",
   "metadata": {},
   "outputs": [],
   "source": [
    "state_name = spending_2018.iloc[0]\n",
    "state_name = state_name.reset_index()\n",
    "state_name = state_name.iloc[2::3, :]\n",
    "state_name = state_name.iloc[1:152, 0]\n",
    "state_name = state_name.reset_index(drop=True)\n",
    "\n",
    "state_initial = probation_2018.iloc[1:52, 1]\n",
    "state_initial = state_initial.drop(labels = 9)\n",
    "state_initial = state_initial.reset_index(drop=True)\n",
    "\n",
    "state_num = np.arange(1,52)\n",
    "state_num = pd.Series(state_num)\n",
    "state_num = state_num.drop(labels = 8)\n",
    "state_num = state_num.reset_index(drop=True)\n",
    "\n",
    "state_name_rep = list(state_name) * 9\n",
    "state_initial_rep = list(state_initial) * 9\n",
    "state_num_rep = list(state_num) * 9"
   ]
  },
  {
   "cell_type": "markdown",
   "id": "eba590a8",
   "metadata": {},
   "source": [
    "### grab years and population estimates"
   ]
  },
  {
   "cell_type": "code",
   "execution_count": 7,
   "id": "268e3466",
   "metadata": {},
   "outputs": [],
   "source": [
    "pop_years = state_population.iloc[8:59,3:12]\n",
    "pop_years.columns = [\"2010\", \"2011\", \"2012\", \"2013\", \"2014\", \"2015\", \"2016\", \"2017\", \"2018\"]\n",
    "pop_years = pop_years.drop(labels = 16)\n",
    "pop_years = pop_years.reset_index(drop = True)\n",
    "pop_long = pd.melt(pop_years, id_vars=None, value_vars=None, var_name=\"years\", value_name=\"population\")\n",
    "year = pop_long.iloc[:,0]\n",
    "population = pop_long.iloc[:,1]"
   ]
  },
  {
   "cell_type": "markdown",
   "id": "8478b5c9",
   "metadata": {},
   "source": [
    "### clean poverty_rate data"
   ]
  },
  {
   "cell_type": "code",
   "execution_count": 8,
   "id": "1d94612f",
   "metadata": {},
   "outputs": [],
   "source": [
    "poverty_temp = []\n",
    "for i in range(2010, 2019):\n",
    "    df_name = f\"stats_{i}\"\n",
    "    df = globals()[df_name]\n",
    "    selected_df = df.iloc[135]\n",
    "    selected_df = selected_df.reset_index()\n",
    "    selected_df = selected_df.iloc[2::2,:]\n",
    "    selected_df = selected_df.drop(labels = [18, 104])\n",
    "    selected_df = selected_df.iloc[:,1]\n",
    "    selected_df = selected_df.reset_index(drop = True)\n",
    "    selected_df = selected_df.str.replace(r\"\\D\",\"\", regex=True).astype(float)\n",
    "    selected_df = selected_df / 10\n",
    "    poverty_temp.append(selected_df)\n",
    "all_poverty = pd.concat(poverty_temp, axis=1)\n",
    "all_poverty.columns = [\"2010\", \"2011\", \"2012\", \"2013\", \"2014\", \"2015\", \"2016\", \"2017\", \"2018\"]\n",
    "poverty_long = pd.melt(all_poverty, id_vars=None, value_vars=None, var_name=\"years\", value_name=\"poverty_rate\")"
   ]
  },
  {
   "cell_type": "markdown",
   "id": "b64f0fed",
   "metadata": {},
   "source": [
    "### clean unemployment_rate data"
   ]
  },
  {
   "cell_type": "code",
   "execution_count": 9,
   "id": "dc75cef7",
   "metadata": {},
   "outputs": [],
   "source": [
    "unemploy_temp = []\n",
    "for i in range(2010, 2019):\n",
    "    df_name = f\"stats_{i}\"\n",
    "    df = globals()[df_name]\n",
    "    selected_df = df.iloc[5]\n",
    "    selected_df = selected_df.reset_index()\n",
    "    selected_df = selected_df.iloc[2::2,:]\n",
    "    selected_df = selected_df.drop(labels = [18, 104])\n",
    "    selected_df = selected_df.iloc[:,1]\n",
    "    selected_df = selected_df.reset_index(drop = True)\n",
    "    selected_df = selected_df.str.replace(r\"\\D\",\"\", regex=True).astype(float)\n",
    "    selected_df = selected_df / 10\n",
    "    unemploy_temp.append(selected_df)\n",
    "all_unemploy = pd.concat(unemploy_temp, axis=1)\n",
    "all_unemploy.columns = [\"2010\", \"2011\", \"2012\", \"2013\", \"2014\", \"2015\", \"2016\", \"2017\", \"2018\"]\n",
    "unemploy_long = pd.melt(all_unemploy, id_vars=None, value_vars=None, var_name=\"years\", value_name=\"unemploy_rate\")"
   ]
  },
  {
   "cell_type": "markdown",
   "id": "fb236f0c",
   "metadata": {},
   "source": [
    "### clean probation data"
   ]
  },
  {
   "cell_type": "code",
   "execution_count": 10,
   "id": "cf94decf",
   "metadata": {},
   "outputs": [],
   "source": [
    "probation_temp = []\n",
    "for i in range(2010,2019):\n",
    "    df_name = f\"probation_{i}\"\n",
    "    df = globals()[df_name]\n",
    "    selected_df = df.iloc[1:52,24]\n",
    "    selected_df = selected_df.drop(index = 9)\n",
    "    selected_df = selected_df.reset_index(drop=True)\n",
    "    probation_temp.append(selected_df)\n",
    "all_probation = pd.concat(probation_temp, axis=1)\n",
    "all_probation.columns = [\"2010\", \"2011\", \"2012\", \"2013\", \"2014\", \"2015\", \"2016\", \"2017\", \"2018\"]\n",
    "probation_long = pd.melt(all_probation, id_vars=None, value_vars=None, var_name=\"years\", value_name=\"probationers\")"
   ]
  },
  {
   "cell_type": "markdown",
   "id": "1dd408a5",
   "metadata": {},
   "source": [
    "### clean parole data"
   ]
  },
  {
   "cell_type": "code",
   "execution_count": 11,
   "id": "8c17cca7",
   "metadata": {},
   "outputs": [],
   "source": [
    "parole_temp = []\n",
    "for i in range(2010,2019):\n",
    "    df_name = f\"parole_{i}\"\n",
    "    df = globals()[df_name]\n",
    "    selected_df = df.iloc[1:52,24]\n",
    "    selected_df = selected_df.drop(index = 9)\n",
    "    selected_df = selected_df.reset_index(drop=True)\n",
    "    parole_temp.append(selected_df)\n",
    "all_parole = pd.concat(parole_temp, axis=1)\n",
    "all_parole.columns = [\"2010\", \"2011\", \"2012\", \"2013\", \"2014\", \"2015\", \"2016\", \"2017\", \"2018\"]\n",
    "parole_long = pd.melt(all_parole, id_vars=None, value_vars=None, var_name=\"years\", value_name=\"parolees\")"
   ]
  },
  {
   "cell_type": "markdown",
   "id": "d4ea595b",
   "metadata": {},
   "source": [
    "### clean jail data"
   ]
  },
  {
   "cell_type": "code",
   "execution_count": 12,
   "id": "899a5c66",
   "metadata": {},
   "outputs": [],
   "source": [
    "jail_2010 = jail_2010.rename({\"state\":\"STATE\", \"finalweight\":\"FINALWT\", \"totpop\":\"TOTPOP\"}, axis=1)\n",
    "jail_2011 = jail_2011.rename({\"state\":\"STATE\", \"finalweight\":\"FINALWT\", \"totpop\":\"TOTPOP\"}, axis=1)\n",
    "jail_2012 = jail_2012.rename({\"state\":\"STATE\", \"finalweight\":\"FINALWT\", \"totpop\":\"TOTPOP\"}, axis=1)\n",
    "jail_2013 = jail_2013.rename({\"WEIGHT\":\"FINALWT\"}, axis=1)\n",
    "jail_2014 = jail_2014.rename({\"WEIGHT\":\"FINALWT\"}, axis=1)\n",
    "\n",
    "state_num_temp = jail_2010.loc[:,\"STATE\"].unique()\n",
    "state_num_temp = pd.DataFrame(state_num_temp)\n",
    "jail_temp = []\n",
    "jail_temp.append(state_num_temp)\n",
    "for i in range(2010,2019):\n",
    "    df_name = f\"jail_{i}\"\n",
    "    df = globals()[df_name]\n",
    "    selected_df = df.loc[:,[\"STATE\", \"FINALWT\", \"TOTPOP\"]]\n",
    "    selected_df[\"jailed\"] = selected_df[\"FINALWT\"] * selected_df[\"TOTPOP\"]\n",
    "    selected_df = selected_df.groupby(by=\"STATE\")\n",
    "    selected_df = selected_df.agg(sum)\n",
    "    selected_df = selected_df.loc[:,[\"jailed\"]]\n",
    "    selected_df = selected_df.reset_index(drop=True)\n",
    "    jail_temp.append(selected_df)\n",
    "all_jail = pd.concat(jail_temp, axis=1)\n",
    "all_jail.columns = [\"STATE\",\"2010\", \"2011\", \"2012\", \"2013\", \"2014\", \"2015\", \"2016\", \"2017\", \"2018\"]\n",
    "jail_long = pd.melt(all_jail, id_vars=\"STATE\", value_vars=None, var_name=\"years\", value_name=\"jailed\")"
   ]
  },
  {
   "cell_type": "markdown",
   "id": "bc666d35",
   "metadata": {},
   "source": [
    "### clean prisoners data"
   ]
  },
  {
   "cell_type": "code",
   "execution_count": 13,
   "id": "2d2addcc",
   "metadata": {},
   "outputs": [],
   "source": [
    "prisoners = state_prisoners.iloc[0:51, :]\n",
    "prisoners.columns = prisoners.iloc[0]\n",
    "prisoners = prisoners.drop(prisoners.index[0])\n",
    "prisoners = prisoners.sort_values(\"State\")\n",
    "prisoners = prisoners.iloc[0:51, 1:10]\n",
    "prisoners = prisoners.reset_index(drop=True)\n",
    "prison_long = pd.melt(prisoners, id_vars=None, value_vars=None, var_name=\"years\", value_name=\"prisoners\")"
   ]
  },
  {
   "cell_type": "markdown",
   "id": "7e1fa553",
   "metadata": {},
   "source": [
    "### clean spending data"
   ]
  },
  {
   "cell_type": "code",
   "execution_count": 14,
   "id": "ac1701e2",
   "metadata": {},
   "outputs": [],
   "source": [
    "spending_temp = []\n",
    "\n",
    "welfare_exp2010 = spending_2010.iloc[42]\n",
    "welfare_exp2010 = welfare_exp2010.reset_index()\n",
    "welfare_exp2010 = welfare_exp2010.iloc[2:52, 1]\n",
    "welfare_exp2010 = welfare_exp2010.reset_index(drop=True)\n",
    "spending_temp.append(welfare_exp2010)\n",
    "\n",
    "welfare_exp2011 = spending_2011.iloc[42]\n",
    "welfare_exp2011 = welfare_exp2011.reset_index()\n",
    "welfare_exp2011 = welfare_exp2011.iloc[2:52, 1]\n",
    "welfare_exp2011 = welfare_exp2011.reset_index(drop=True)\n",
    "spending_temp.append(welfare_exp2011)\n",
    "\n",
    "for i in range(2012,2018):\n",
    "    df_name = f\"spending_{i}\"\n",
    "    df = globals()[df_name]\n",
    "    selected_df = df.iloc[36]\n",
    "    selected_df = selected_df.reset_index()\n",
    "    selected_df = selected_df.iloc[2:52, 1]\n",
    "    selected_df = selected_df.reset_index(drop=True)\n",
    "    spending_temp.append(selected_df)\n",
    "\n",
    "welfare_exp2018 = spending_2018.iloc[37]\n",
    "welfare_exp2018 = welfare_exp2018.reset_index()\n",
    "welfare_exp2018 = welfare_exp2018.iloc[2::3, :]\n",
    "welfare_exp2018 = welfare_exp2018.iloc[1:152, 1]\n",
    "welfare_exp2018 = welfare_exp2018.reset_index(drop=True)\n",
    "spending_temp.append(welfare_exp2018)\n",
    "\n",
    "all_spending = pd.concat(spending_temp, axis=1)\n",
    "all_spending.columns = [\"2010\", \"2011\", \"2012\", \"2013\", \"2014\", \"2015\", \"2016\", \"2017\", \"2018\"]\n",
    "spending_long = pd.melt(all_spending, id_vars=None, value_vars=None, var_name=\"years\", value_name=\"welfare\")"
   ]
  },
  {
   "cell_type": "markdown",
   "id": "3feddab5",
   "metadata": {},
   "source": [
    "### clean violent crime data"
   ]
  },
  {
   "cell_type": "code",
   "execution_count": 15,
   "id": "5b1c11c1",
   "metadata": {},
   "outputs": [],
   "source": [
    "states_temp = crime_2018.iloc[13:197,0]\n",
    "states_temp = states_temp.reset_index()\n",
    "states_temp = states_temp.iloc[0::3,:]\n",
    "states_temp = states_temp.drop([18,30,33,51,75,78,84,108,123,138,141,168])\n",
    "states_temp = states_temp.iloc[:,1]\n",
    "states_temp = states_temp.reset_index(drop=True)\n",
    "\n",
    "violent_temp = []\n",
    "violent_temp.append(states_temp)\n",
    "\n",
    "crime_2012 = crime_2012.drop(labels=0)\n",
    "crime_2012 = crime_2012.reset_index(drop=True)\n",
    "crime_2013 = crime_2013.drop(labels=0)\n",
    "crime_2013 = crime_2013.reset_index(drop=True)\n",
    "crime_2014 = crime_2014.drop(labels=0)\n",
    "crime_2014 = crime_2014.reset_index(drop=True)\n",
    "\n",
    "for i in range(2010,2019):\n",
    "    df_name = f\"crime_{i}\"\n",
    "    df = globals()[df_name]\n",
    "    selected_df = df.iloc[14:198,3]\n",
    "    selected_df = selected_df.reset_index()\n",
    "    selected_df = selected_df.iloc[0::3, :]\n",
    "    selected_df = selected_df.drop([18,30,33,51,75,78,84,108,123,138,141,168])\n",
    "    selected_df = selected_df.iloc[:,1]\n",
    "    selected_df = selected_df.reset_index(drop=True)\n",
    "    violent_temp.append(selected_df)\n",
    "all_violent = pd.concat(violent_temp, axis=1)\n",
    "all_violent = all_violent.sort_values(\"Table 4\")\n",
    "all_violent = all_violent.iloc[:,1:10]\n",
    "all_violent.columns = [\"2010\", \"2011\", \"2012\", \"2013\", \"2014\", \"2015\", \"2016\", \"2017\", \"2018\"]\n",
    "violent_long = pd.melt(all_violent, id_vars=None, value_vars=None, var_name=\"years\", value_name=\"violent\")"
   ]
  },
  {
   "cell_type": "markdown",
   "id": "a6777eab",
   "metadata": {},
   "source": [
    "### clean property crime data"
   ]
  },
  {
   "cell_type": "code",
   "execution_count": 16,
   "id": "a440efb1",
   "metadata": {},
   "outputs": [],
   "source": [
    "property_temp = []\n",
    "property_temp.append(states_temp)\n",
    "\n",
    "for i in range(2010,2019):\n",
    "    df_name = f\"crime_{i}\"\n",
    "    df = globals()[df_name]\n",
    "    selected_df = df.iloc[14:198,13]\n",
    "    selected_df = selected_df.reset_index()\n",
    "    selected_df = selected_df.iloc[0::3, :]\n",
    "    selected_df = selected_df.drop([18,30,33,51,75,78,84,108,123,138,141,168])\n",
    "    selected_df = selected_df.iloc[:,1]\n",
    "    selected_df = selected_df.reset_index(drop=True)\n",
    "    property_temp.append(selected_df)\n",
    "all_property = pd.concat(property_temp, axis=1)\n",
    "all_property = all_property.sort_values(\"Table 4\")\n",
    "all_property = all_property.iloc[:,1:10]\n",
    "all_property.columns = [\"2010\", \"2011\", \"2012\", \"2013\", \"2014\", \"2015\", \"2016\", \"2017\", \"2018\"]\n",
    "property_long = pd.melt(all_property, id_vars=None, value_vars=None, var_name=\"years\", value_name=\"property\")"
   ]
  },
  {
   "cell_type": "markdown",
   "id": "e0d70e84",
   "metadata": {},
   "source": [
    "### create dataframe for all clean data"
   ]
  },
  {
   "cell_type": "code",
   "execution_count": 17,
   "id": "9c938542",
   "metadata": {},
   "outputs": [],
   "source": [
    "clean_data2 = {\"state_name\":state_name_rep, \n",
    "      \"state_initial\":state_initial_rep, \n",
    "      \"state_num\":state_num_rep,\n",
    "      \"year\":year,\n",
    "      \"population\":population,\n",
    "      \"poverty_rate\":poverty_long.iloc[:,1],\n",
    "      \"unemploy_rate\":unemploy_long.iloc[:,1],\n",
    "      \"probationers\":probation_long.iloc[:,1],\n",
    "      \"parolees\":parole_long.iloc[:,1],\n",
    "      \"prisoners\":prison_long.iloc[:,1],\n",
    "      \"welfare_exp\":spending_long.iloc[:,1],\n",
    "      \"violent_crime\":violent_long.iloc[:,1],\n",
    "      \"property_crime\":property_long.iloc[:,1]\n",
    "      }\n",
    "clean_data2 = pd.DataFrame(clean_data2)\n",
    "clean_data2 = pd.merge(clean_data2, jail_long, how=\"left\", left_on=[\"state_num\",\"year\"], right_on=[\"STATE\",\"years\"])\n",
    "clean_data2 = clean_data2.drop(columns= [\"STATE\", \"years\"])\n",
    "clean_data2 = clean_data2.fillna(0)\n",
    "clean_data2 = clean_data2.replace({-9:np.nan})\n",
    "clean_data2 = clean_data2.dropna()\n",
    "\n",
    "calc_data = clean_data2.loc[:, [\"state_name\", \"state_initial\", \"state_num\", \"year\", \"poverty_rate\", \"unemploy_rate\"]]\n",
    "calc_data[\"justice_rate\"] = ((clean_data2[\"prisoners\"] + \n",
    "                                 clean_data2[\"probationers\"] + \n",
    "                                 clean_data2[\"parolees\"] + \n",
    "                                 clean_data2[\"jailed\"]) / clean_data2[\"population\"]) * 100\n",
    "calc_data[\"violent_rate\"] = (clean_data2[\"violent_crime\"] / clean_data2[\"population\"]) * 100\n",
    "calc_data[\"property_rate\"] = (clean_data2[\"property_crime\"] / clean_data2[\"population\"]) * 100\n",
    "calc_data[\"welfare_povcap\"] = clean_data2[\"welfare_exp\"] / ((clean_data2[\"poverty_rate\"] / 100) * clean_data2[\"population\"])\n",
    "calc_data[\"welfare_percap\"] = clean_data2[\"welfare_exp\"] / clean_data2[\"population\"]"
   ]
  },
  {
   "cell_type": "code",
   "execution_count": 18,
   "id": "bf4ec7f5",
   "metadata": {},
   "outputs": [
    {
     "data": {
      "text/html": [
       "<div>\n",
       "<style scoped>\n",
       "    .dataframe tbody tr th:only-of-type {\n",
       "        vertical-align: middle;\n",
       "    }\n",
       "\n",
       "    .dataframe tbody tr th {\n",
       "        vertical-align: top;\n",
       "    }\n",
       "\n",
       "    .dataframe thead th {\n",
       "        text-align: right;\n",
       "    }\n",
       "</style>\n",
       "<table border=\"1\" class=\"dataframe\">\n",
       "  <thead>\n",
       "    <tr style=\"text-align: right;\">\n",
       "      <th></th>\n",
       "      <th>state_name</th>\n",
       "      <th>state_initial</th>\n",
       "      <th>state_num</th>\n",
       "      <th>year</th>\n",
       "      <th>poverty_rate</th>\n",
       "      <th>unemploy_rate</th>\n",
       "      <th>justice_rate</th>\n",
       "      <th>violent_rate</th>\n",
       "      <th>property_rate</th>\n",
       "      <th>welfare_povcap</th>\n",
       "      <th>welfare_percap</th>\n",
       "    </tr>\n",
       "  </thead>\n",
       "  <tbody>\n",
       "    <tr>\n",
       "      <th>0</th>\n",
       "      <td>Alabama</td>\n",
       "      <td>AL</td>\n",
       "      <td>1</td>\n",
       "      <td>2010</td>\n",
       "      <td>19.0</td>\n",
       "      <td>7.0</td>\n",
       "      <td>2.140814</td>\n",
       "      <td>0.377311</td>\n",
       "      <td>3.512574</td>\n",
       "      <td>6.634749</td>\n",
       "      <td>1.260602</td>\n",
       "    </tr>\n",
       "    <tr>\n",
       "      <th>1</th>\n",
       "      <td>Alaska</td>\n",
       "      <td>AK</td>\n",
       "      <td>2</td>\n",
       "      <td>2010</td>\n",
       "      <td>9.9</td>\n",
       "      <td>6.6</td>\n",
       "      <td>1.789721</td>\n",
       "      <td>0.635514</td>\n",
       "      <td>2.837753</td>\n",
       "      <td>25.466003</td>\n",
       "      <td>2.521134</td>\n",
       "    </tr>\n",
       "    <tr>\n",
       "      <th>2</th>\n",
       "      <td>Arizona</td>\n",
       "      <td>AZ</td>\n",
       "      <td>3</td>\n",
       "      <td>2010</td>\n",
       "      <td>17.4</td>\n",
       "      <td>7.2</td>\n",
       "      <td>2.299276</td>\n",
       "      <td>0.407122</td>\n",
       "      <td>3.525627</td>\n",
       "      <td>8.262792</td>\n",
       "      <td>1.437726</td>\n",
       "    </tr>\n",
       "    <tr>\n",
       "      <th>3</th>\n",
       "      <td>Arkansas</td>\n",
       "      <td>AR</td>\n",
       "      <td>4</td>\n",
       "      <td>2010</td>\n",
       "      <td>18.8</td>\n",
       "      <td>5.8</td>\n",
       "      <td>2.086791</td>\n",
       "      <td>0.504284</td>\n",
       "      <td>3.551550</td>\n",
       "      <td>7.810438</td>\n",
       "      <td>1.468362</td>\n",
       "    </tr>\n",
       "    <tr>\n",
       "      <th>4</th>\n",
       "      <td>California</td>\n",
       "      <td>CA</td>\n",
       "      <td>5</td>\n",
       "      <td>2010</td>\n",
       "      <td>15.8</td>\n",
       "      <td>8.2</td>\n",
       "      <td>1.913700</td>\n",
       "      <td>0.439805</td>\n",
       "      <td>2.631169</td>\n",
       "      <td>10.828264</td>\n",
       "      <td>1.710866</td>\n",
       "    </tr>\n",
       "  </tbody>\n",
       "</table>\n",
       "</div>"
      ],
      "text/plain": [
       "   state_name state_initial  state_num  year  poverty_rate  unemploy_rate   \n",
       "0     Alabama            AL          1  2010          19.0            7.0  \\\n",
       "1      Alaska            AK          2  2010           9.9            6.6   \n",
       "2     Arizona            AZ          3  2010          17.4            7.2   \n",
       "3    Arkansas            AR          4  2010          18.8            5.8   \n",
       "4  California            CA          5  2010          15.8            8.2   \n",
       "\n",
       "   justice_rate  violent_rate  property_rate  welfare_povcap  welfare_percap  \n",
       "0      2.140814      0.377311       3.512574        6.634749        1.260602  \n",
       "1      1.789721      0.635514       2.837753       25.466003        2.521134  \n",
       "2      2.299276      0.407122       3.525627        8.262792        1.437726  \n",
       "3      2.086791      0.504284       3.551550        7.810438        1.468362  \n",
       "4      1.913700      0.439805       2.631169       10.828264        1.710866  "
      ]
     },
     "execution_count": 18,
     "metadata": {},
     "output_type": "execute_result"
    }
   ],
   "source": [
    "calc_data.head()"
   ]
  },
  {
   "cell_type": "markdown",
   "id": "fd9a7d17",
   "metadata": {},
   "source": [
    "### Export clean dataframe"
   ]
  },
  {
   "cell_type": "code",
   "execution_count": 19,
   "id": "95cf20f8",
   "metadata": {},
   "outputs": [],
   "source": [
    "calc_data.to_csv('calc_data.csv')"
   ]
  }
 ],
 "metadata": {
  "kernelspec": {
   "display_name": "Python 3 (ipykernel)",
   "language": "python",
   "name": "python3"
  },
  "language_info": {
   "codemirror_mode": {
    "name": "ipython",
    "version": 3
   },
   "file_extension": ".py",
   "mimetype": "text/x-python",
   "name": "python",
   "nbconvert_exporter": "python",
   "pygments_lexer": "ipython3",
   "version": "3.9.13"
  }
 },
 "nbformat": 4,
 "nbformat_minor": 5
}
